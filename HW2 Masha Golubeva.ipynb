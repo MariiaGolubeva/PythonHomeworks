{
 "cells": [
  {
   "cell_type": "markdown",
   "metadata": {},
   "source": [
    "# Task 1: CVC syllables generator\n",
    "#### Write a program that generates CVC syllables using vowels = 'aeiou' and consonants = 'ptkbdg', but excludes cases where the two consonants are the same. That is, we do not want items like dod or bab"
   ]
  },
  {
   "cell_type": "code",
   "execution_count": 1,
   "metadata": {},
   "outputs": [
    {
     "name": "stdout",
     "output_type": "stream",
     "text": [
      "p a t\n",
      "p a k\n",
      "p a b\n",
      "p a d\n",
      "p a g\n",
      "p e t\n",
      "p e k\n",
      "p e b\n",
      "p e d\n",
      "p e g\n",
      "p i t\n",
      "p i k\n",
      "p i b\n",
      "p i d\n",
      "p i g\n",
      "p o t\n",
      "p o k\n",
      "p o b\n",
      "p o d\n",
      "p o g\n",
      "p u t\n",
      "p u k\n",
      "p u b\n",
      "p u d\n",
      "p u g\n",
      "t a p\n",
      "t a k\n",
      "t a b\n",
      "t a d\n",
      "t a g\n",
      "t e p\n",
      "t e k\n",
      "t e b\n",
      "t e d\n",
      "t e g\n",
      "t i p\n",
      "t i k\n",
      "t i b\n",
      "t i d\n",
      "t i g\n",
      "t o p\n",
      "t o k\n",
      "t o b\n",
      "t o d\n",
      "t o g\n",
      "t u p\n",
      "t u k\n",
      "t u b\n",
      "t u d\n",
      "t u g\n",
      "k a p\n",
      "k a t\n",
      "k a b\n",
      "k a d\n",
      "k a g\n",
      "k e p\n",
      "k e t\n",
      "k e b\n",
      "k e d\n",
      "k e g\n",
      "k i p\n",
      "k i t\n",
      "k i b\n",
      "k i d\n",
      "k i g\n",
      "k o p\n",
      "k o t\n",
      "k o b\n",
      "k o d\n",
      "k o g\n",
      "k u p\n",
      "k u t\n",
      "k u b\n",
      "k u d\n",
      "k u g\n",
      "b a p\n",
      "b a t\n",
      "b a k\n",
      "b a d\n",
      "b a g\n",
      "b e p\n",
      "b e t\n",
      "b e k\n",
      "b e d\n",
      "b e g\n",
      "b i p\n",
      "b i t\n",
      "b i k\n",
      "b i d\n",
      "b i g\n",
      "b o p\n",
      "b o t\n",
      "b o k\n",
      "b o d\n",
      "b o g\n",
      "b u p\n",
      "b u t\n",
      "b u k\n",
      "b u d\n",
      "b u g\n",
      "d a p\n",
      "d a t\n",
      "d a k\n",
      "d a b\n",
      "d a g\n",
      "d e p\n",
      "d e t\n",
      "d e k\n",
      "d e b\n",
      "d e g\n",
      "d i p\n",
      "d i t\n",
      "d i k\n",
      "d i b\n",
      "d i g\n",
      "d o p\n",
      "d o t\n",
      "d o k\n",
      "d o b\n",
      "d o g\n",
      "d u p\n",
      "d u t\n",
      "d u k\n",
      "d u b\n",
      "d u g\n",
      "g a p\n",
      "g a t\n",
      "g a k\n",
      "g a b\n",
      "g a d\n",
      "g e p\n",
      "g e t\n",
      "g e k\n",
      "g e b\n",
      "g e d\n",
      "g i p\n",
      "g i t\n",
      "g i k\n",
      "g i b\n",
      "g i d\n",
      "g o p\n",
      "g o t\n",
      "g o k\n",
      "g o b\n",
      "g o d\n",
      "g u p\n",
      "g u t\n",
      "g u k\n",
      "g u b\n",
      "g u d\n"
     ]
    }
   ],
   "source": [
    "vowels = 'aeiou'\n",
    "consonants = 'ptkbdg'\n",
    "for c1 in consonants:\n",
    "    for v in vowels:\n",
    "        for c2 in consonants:\n",
    "            if c1 != c2:\n",
    "                print(c1,v,c2)"
   ]
  },
  {
   "cell_type": "markdown",
   "metadata": {},
   "source": [
    "# Task 2: Define a proper title case function\n",
    "#### Try to do a better job of getting title case. For example, \"the cat in the hat\".title() ==> \"The Cat In The Hat\", but we want \"The Cat in the Hat\""
   ]
  },
  {
   "cell_type": "code",
   "execution_count": 2,
   "metadata": {},
   "outputs": [
    {
     "name": "stdout",
     "output_type": "stream",
     "text": [
      "An Ant on a Table\n",
      "The Cat in the Hat\n"
     ]
    }
   ],
   "source": [
    "def proper_title_case(s):\n",
    "    nocaps = [\"the\", \"in\", \"on\", \"a\", \"an\", \"of\", \"for\", \"behind\", \"inside\", \"under\", \"between\"] # This needs to be extended.\n",
    "    #Your code goes below this comment\n",
    "    s = s.lower()\n",
    "    s = s.split()\n",
    "    s1 = []\n",
    "    for w in s:\n",
    "        if w not in nocaps:\n",
    "            w = w.capitalize()\n",
    "            s1.append(w)\n",
    "        else:\n",
    "            s1.append(w)\n",
    "    s1[0] = s1[0].capitalize()\n",
    "    s1 = ' '.join(s1)\n",
    "    return s1 #here goes what you want the function to return\n",
    "print(proper_title_case('An ant on a table'))#to test your function\n",
    "print(proper_title_case('The Cat In the Hat'))#to test your function"
   ]
  },
  {
   "cell_type": "markdown",
   "metadata": {},
   "source": [
    "# Task 3: Write the function mean\n",
    "#### Complete the function mean for calculating the mean (average) of a list of numeric values. Your function should take a list vals as its argument and return a float. Keep in mind that vals might contain int values. Consider doing it with the in-line function sum, which facilitates a fast and readable one-line version of the function."
   ]
  },
  {
   "cell_type": "code",
   "execution_count": 3,
   "metadata": {},
   "outputs": [
    {
     "name": "stdout",
     "output_type": "stream",
     "text": [
      "2.3666666666666667\n"
     ]
    }
   ],
   "source": [
    "def mean(vals):\n",
    "    \"\"\"Return the mean of the values in vals, presupposed to be \n",
    "    numeric (float, int, or long).\"\"\"\n",
    "    average = float(sum(vals)/len(vals))\n",
    "    return average #here goes what you want the function to return\n",
    "\n",
    "print(mean([1,5,1.1]))#to test your function"
   ]
  },
  {
   "cell_type": "markdown",
   "metadata": {},
   "source": [
    "# Task 4: Write the function standard deviation\n",
    "#### Complete the function sd for calculating the standard deviation of a list of numeric values. Your function should take a list vals as its value and return a float. Keep in mind that vals might contain int values."
   ]
  },
  {
   "cell_type": "code",
   "execution_count": 4,
   "metadata": {},
   "outputs": [
    {
     "name": "stdout",
     "output_type": "stream",
     "text": [
      "0.816496580927726\n"
     ]
    }
   ],
   "source": [
    "import math\n",
    "\n",
    "def sd(vals):   \n",
    "    \"\"\"Return the standard deviation of the values in vals, \n",
    "    presupposed to be numeric (float, int).\"\"\"\n",
    "    #Your code goes below this comment, use the mean fuction defined in the previous task\n",
    "    av = mean(vals)\n",
    "    summa = []\n",
    "    for x in vals:\n",
    "        summa.append((x - av)**2)\n",
    "    sd = math.sqrt(sum(summa)/len(vals))\n",
    "    return sd #here goes what you want the function to return\n",
    "\n",
    "print(sd([0,1,2]))#to test your function"
   ]
  },
  {
   "cell_type": "markdown",
   "metadata": {},
   "source": [
    "# Task 5.1: Basic CSV parser\n",
    "#### Complete the following function for turning the str myspreadsheet into a 10x3 matrix of data. I should emphasize that the top line of myspreadsheet is not part of the data. It's just there to help us out. Column 0 of your data should be int values. Column 1 of your data should be float values."
   ]
  },
  {
   "cell_type": "code",
   "execution_count": 5,
   "metadata": {},
   "outputs": [
    {
     "name": "stdout",
     "output_type": "stream",
     "text": [
      "[[1, 74.37000326528938, 'Psychologist'], [2, 67.49686206937491, 'Psychologist'], [3, 74.92356434760966, 'Psychologist'], [4, 64.62372198999978, 'Psychologist'], [5, 67.76787900026083, 'Linguist'], [6, 61.50397707923559, 'Psychologist'], [7, 62.73680961908566, 'Psychologist'], [8, 68.60803984763902, 'Linguist'], [9, 70.16090500135535, 'Psychologist'], [10, 76.81144438287173, 'Linguist']]\n"
     ]
    }
   ],
   "source": [
    "myspreadsheet =\"\"\"Subject,Height,Occupation\n",
    "1,74.37000326528938,Psychologist\n",
    "2,67.49686206937491,Psychologist\n",
    "3,74.92356434760966,Psychologist\n",
    "4,64.62372198999978,Psychologist\n",
    "5,67.76787900026083,Linguist\n",
    "6,61.50397707923559,Psychologist\n",
    "7,62.73680961908566,Psychologist\n",
    "8,68.60803984763902,Linguist\n",
    "9,70.16090500135535,Psychologist\n",
    "10,76.81144438287173,Linguist\"\"\"\n",
    "\n",
    "def csv_parser(s):\n",
    "    \"\"\"Parses the string s into lines, and then parses those lines by\n",
    "    splitting on the comma and converting the numerical data to int.\n",
    "    The output is a list of lists of subject data.\"\"\"\n",
    "    #Your code goes below this comment\n",
    "    # Data is our output. It will be a list of lists.\n",
    "    data = []\n",
    "    \n",
    "    # Split csv into lines and store them in a list called 'lines'.\n",
    "    lines = s.splitlines()\n",
    "    \n",
    "    # Remove the first element from lines, so that you have only the data lines left.\n",
    "    lines=lines[1:]\n",
    "    \n",
    "    # At this stage, we loop through the list called lines.\n",
    "    # As you loop\n",
    "    #     i. split each line on the commas;\n",
    "    #    ii. convert the Subject variable to int.\n",
    "    #   iii. convert the Height variable to float.\n",
    "    #    iv. add to data a list consisting of this line's Subject, Height, and Occupation values \n",
    "    for line in lines:\n",
    "        l=line.strip().split(',')\n",
    "        l[0]=int(l[0])\n",
    "        l[1]=float(l[1])\n",
    "        data.append(l)\n",
    "    \n",
    "\n",
    "    \n",
    "    return data\n",
    "print(csv_parser(myspreadsheet))#to test your function"
   ]
  },
  {
   "cell_type": "markdown",
   "metadata": {},
   "source": [
    "# Task 5.2: The mean height\n",
    "#### Complete the following function for computing the mean height of the subjects in this data set, using your mean function from above."
   ]
  },
  {
   "cell_type": "code",
   "execution_count": 6,
   "metadata": {},
   "outputs": [
    {
     "name": "stdout",
     "output_type": "stream",
     "text": [
      "68.9003206602722\n"
     ]
    }
   ],
   "source": [
    "def mean_height(data):\n",
    "    \"\"\"Return the mean numerical value of column 1 in an list of lists.\n",
    "    data is the output of csv_parser(myspreadsheet)\"\"\"\n",
    "    #Your code goes below this comment\n",
    "    height_list = []\n",
    "    for line in csv_parser(myspreadsheet):\n",
    "        height_list.append(line[1])\n",
    "\n",
    "    return mean(height_list)#here goes what you want the function to return\n",
    "print(mean_height(myspreadsheet))#to test your function"
   ]
  },
  {
   "cell_type": "markdown",
   "metadata": {},
   "source": [
    "# Task 5.3: Occupation distribution\n",
    "#### Complete the following function so that it returns a dictionary mapping occupation names into the number of times they occur in the data."
   ]
  },
  {
   "cell_type": "code",
   "execution_count": 7,
   "metadata": {},
   "outputs": [
    {
     "name": "stdout",
     "output_type": "stream",
     "text": [
      "{'Psychologist': 7, 'Linguist': 3}\n"
     ]
    }
   ],
   "source": [
    "def occupation_distribution(data):\n",
    "    \"\"\"Returns the list of occupations given in column 2 of data.\n",
    "    data is the output of csv_parser(myspreadsheet)\"\"\"\n",
    "    #Your code goes below this comment\n",
    "    professions = []\n",
    "    for line in csv_parser(myspreadsheet):\n",
    "        professions.append(line[2])\n",
    "    ocup_dict = {}\n",
    "    for word in professions:\n",
    "        if word in ocup_dict:\n",
    "            ocup_dict[word] += 1\n",
    "        else:\n",
    "            ocup_dict[word] = 1\n",
    "    \n",
    "    return ocup_dict #here goes what you want the function to return\n",
    "print(occupation_distribution(myspreadsheet))#to test your function"
   ]
  }
 ],
 "metadata": {
  "kernelspec": {
   "display_name": "Python 3",
   "language": "python",
   "name": "python3"
  },
  "language_info": {
   "codemirror_mode": {
    "name": "ipython",
    "version": 3
   },
   "file_extension": ".py",
   "mimetype": "text/x-python",
   "name": "python",
   "nbconvert_exporter": "python",
   "pygments_lexer": "ipython3",
   "version": "3.8.5"
  }
 },
 "nbformat": 4,
 "nbformat_minor": 4
}
