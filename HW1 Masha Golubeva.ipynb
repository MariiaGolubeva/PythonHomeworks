{
 "cells": [
  {
   "cell_type": "markdown",
   "metadata": {},
   "source": [
    "# Task 1: Datatypes\n",
    "### Find a datatype that we have not discussed in class (don't forget to tell me what it is). List at least three functions that one could apply to the datatype you found.\n",
    "\n",
    "### Datatype: set\n"
   ]
  },
  {
   "cell_type": "code",
   "execution_count": 19,
   "metadata": {},
   "outputs": [],
   "source": [
    "x={1,2,3}\n",
    "y={3,4,5}"
   ]
  },
  {
   "cell_type": "markdown",
   "metadata": {},
   "source": [
    "1) **x&y** or **x.intersection(y)** - creates a set of elements that both of primary sets contain "
   ]
  },
  {
   "cell_type": "code",
   "execution_count": 20,
   "metadata": {},
   "outputs": [
    {
     "data": {
      "text/plain": [
       "{3}"
      ]
     },
     "execution_count": 20,
     "metadata": {},
     "output_type": "execute_result"
    }
   ],
   "source": [
    "x&y"
   ]
  },
  {
   "cell_type": "code",
   "execution_count": 21,
   "metadata": {},
   "outputs": [
    {
     "data": {
      "text/plain": [
       "{3}"
      ]
     },
     "execution_count": 21,
     "metadata": {},
     "output_type": "execute_result"
    }
   ],
   "source": [
    "x.intersection(y)"
   ]
  },
  {
   "cell_type": "markdown",
   "metadata": {},
   "source": [
    "2) **x^y** or **x.symmetric_difference(y)** - creates a set of the elements of two primary sets without excluding the common elementes"
   ]
  },
  {
   "cell_type": "code",
   "execution_count": 22,
   "metadata": {},
   "outputs": [
    {
     "data": {
      "text/plain": [
       "{1, 2, 4, 5}"
      ]
     },
     "execution_count": 22,
     "metadata": {},
     "output_type": "execute_result"
    }
   ],
   "source": [
    "x^y"
   ]
  },
  {
   "cell_type": "code",
   "execution_count": 23,
   "metadata": {},
   "outputs": [
    {
     "data": {
      "text/plain": [
       "{1, 2, 4, 5}"
      ]
     },
     "execution_count": 23,
     "metadata": {},
     "output_type": "execute_result"
    }
   ],
   "source": [
    "x.symmetric_difference(y)"
   ]
  },
  {
   "cell_type": "markdown",
   "metadata": {},
   "source": [
    "3) **x.update()** - adds elements from a list or a tuple to the set"
   ]
  },
  {
   "cell_type": "code",
   "execution_count": 24,
   "metadata": {},
   "outputs": [
    {
     "name": "stdout",
     "output_type": "stream",
     "text": [
      "{1, 2, 3, 7, 8, 9}\n"
     ]
    }
   ],
   "source": [
    "l=[7,8,9]\n",
    "x.update(l)\n",
    "print(x)"
   ]
  },
  {
   "cell_type": "markdown",
   "metadata": {},
   "source": [
    "# Task 2: Comparisons\n",
    "\n",
    "### What do the following numeric comparisons mean when they are applied to strings?\n",
    "\n",
    "#### == - checks if two strings are identic\n",
    "#### != - checks if two strings are not identic"
   ]
  },
  {
   "cell_type": "code",
   "execution_count": 25,
   "metadata": {},
   "outputs": [
    {
     "name": "stdout",
     "output_type": "stream",
     "text": [
      "True\n",
      "False\n",
      "False\n",
      "True\n"
     ]
    }
   ],
   "source": [
    "print('string' == 'string')\n",
    "print('string' == 'string1')\n",
    "print('string' != 'string')\n",
    "print('string' != 'string1')"
   ]
  },
  {
   "cell_type": "markdown",
   "metadata": {},
   "source": [
    "#### These check the alphabetic arrangement\n",
    "#### **>**  - follows alphabetically\n",
    "#### **>=** - follows or takes the same position in alphabet\n",
    "#### **<**  - precedes alphabetically\n",
    "#### **<=** - precedes or takes the same position in alphabet"
   ]
  },
  {
   "cell_type": "code",
   "execution_count": 26,
   "metadata": {},
   "outputs": [
    {
     "name": "stdout",
     "output_type": "stream",
     "text": [
      "True\n",
      "False\n",
      "True\n",
      "False\n",
      "False\n",
      "True\n",
      "False\n",
      "True\n"
     ]
    }
   ],
   "source": [
    "print('abc' < 'abcd')\n",
    "print('zabc' <= 'abcd')\n",
    "print('abc' <= 'abc')\n",
    "print('zabc' < 'abcd')\n",
    "print('abc' > 'abcd')\n",
    "print('zabc' > 'abcd')\n",
    "print('abc' >= 'zabcd')\n",
    "print('zabc' >= 'zabc')"
   ]
  },
  {
   "cell_type": "markdown",
   "metadata": {},
   "source": [
    "# Task 3: Semitic morphology\n",
    "### Semitic morphology involves intercalating vowels and consonants to express morphological categories. For example, the Arabic root k,t,b occurs in at least the following forms: katab-a ’he wrote’, kaatab-a ’he corresponded’, kutib-a ’it was written’, kitab ’book’, kuttaab ’writers’, uktub ’write!’, etc. How might you use format() to describe this system? Give a sample representation for the root k,t,b and how format() could be used to express different categories."
   ]
  },
  {
   "cell_type": "code",
   "execution_count": 27,
   "metadata": {},
   "outputs": [
    {
     "name": "stdout",
     "output_type": "stream",
     "text": [
      "katab-a kaatab-a kutib-a kitab kuttaab uktub\n"
     ]
    }
   ],
   "source": [
    "write='{}k{}t{}b{}'\n",
    "hewrote=write.format('','a','a','-a')\n",
    "hecorresponded=write.format('','aa', 'a', '-a')\n",
    "itwaswritten=write.format('','u','i','-a')\n",
    "book=write.format('','i','a','')\n",
    "writers=write.format('','u','taa','')\n",
    "writeimp=write.format('u','','u','')\n",
    "print(hewrote, hecorresponded, itwaswritten, book, writers, writeimp)"
   ]
  },
  {
   "cell_type": "markdown",
   "metadata": {},
   "source": [
    "# Pragmatics\n",
    "### What will happen if we apply lower() to the string x? What information will we lose when lower() is applied to x? List one linguistic task where the application of lower() to x is useful and one task where it is harmful."
   ]
  },
  {
   "cell_type": "code",
   "execution_count": 28,
   "metadata": {},
   "outputs": [
    {
     "name": "stdout",
     "output_type": "stream",
     "text": [
      " The bartender... absolutely horrible... we waited 10 min before we even got her attention... and then we had to wait 45 – FORTY FIVE! – minutes for our entrees... stalk the waitress to get the cheque... she didn’t make eye contact or even break her stride to wait for a response...\n",
      " the bartender... absolutely horrible... we waited 10 min before we even got her attention... and then we had to wait 45 – forty five! – minutes for our entrees... stalk the waitress to get the cheque... she didn’t make eye contact or even break her stride to wait for a response...\n"
     ]
    }
   ],
   "source": [
    "x = ' The bartender... absolutely horrible... we waited 10 min before we even got her attention... and then we had to wait 45 – FORTY FIVE! – minutes for our entrees... stalk the waitress to get the cheque... she didn’t make eye contact or even break her stride to wait for a response...'\n",
    "print(x)\n",
    "print(x.lower())"
   ]
  },
  {
   "cell_type": "markdown",
   "metadata": {},
   "source": [
    "#### As we see, lower() returns a string with all letters lowercased. In this case we lose the capital letter at the beginning of the sentence and the uppercase exclamation, which expresses intense emotion. \n",
    "#### This method could be useful if the task is to make a dictionary of a text. The characters \"Four\", \"FOUR\" and \"four\" should be considered as one entity in the dictionary, so lower() could help in this case.\n",
    "#### At the same time, lower() could be harmful bringing all the names written with capital letter to the lowercase. Sometimes common and personal names can be distinguished (technically) only by the capital letter, for example, \"Земля\" and \"земля\", \"Rose\" and \"rose\", etc. If the task is to collect all the personal names in a text, lower() shouldn't be applied. "
   ]
  },
  {
   "cell_type": "markdown",
   "metadata": {},
   "source": [
    "# Funky Dictionary\n",
    "\n",
    "### create a dictionary d that contains 10 Russian (slang) words that, you think, a non-native speaker of Russian might not know with definitions in English; if your native language is not Russian, you can choose any language you speak;\n",
    "### test that your dictionary contains 10 pairs;\n",
    "### test whether a given key is in the dictionary;\n",
    "### delete an entry (a key-value pair);\n",
    "### add an entry;\n",
    "### print a list of keys;\n",
    "### print a list of values;\n",
    "### print a list of key-value pairs.\n"
   ]
  },
  {
   "cell_type": "code",
   "execution_count": 29,
   "metadata": {},
   "outputs": [],
   "source": [
    "d={'тусить':'hang out together', 'чувак':'dude, man', 'агонь or огонь':'cool, hot', \n",
    "   'зашквар':'something shameful, that used to be considered bad in the society', 'жестить':'put pressure, get tough',\n",
    "   'хз':'idk, no idea', 'ламповый':'cosy, warm, nice (usually about a party or a person)', 'походу':'seems like',\n",
    "   'движ':'get-together', 'кайф or каеф':'cool, really good'}"
   ]
  },
  {
   "cell_type": "code",
   "execution_count": 30,
   "metadata": {},
   "outputs": [
    {
     "name": "stdout",
     "output_type": "stream",
     "text": [
      "10\n",
      "True\n",
      "9\n",
      "10\n",
      "['тусить', 'чувак', 'агонь or огонь', 'зашквар', 'жестить', 'хз', 'ламповый', 'походу', 'кайф or каеф', 'движ'] \n",
      "\n",
      "['hang out together', 'dude, man', 'cool, hot', 'something shameful, that used to be considered bad in the society', 'put pressure, get tough', 'idk, no idea', 'cosy, warm, nice (usually about a party or a person)', 'seems like', 'cool, really good', 'get-together'] \n",
      "\n",
      "[('тусить', 'hang out together'), ('чувак', 'dude, man'), ('агонь or огонь', 'cool, hot'), ('зашквар', 'something shameful, that used to be considered bad in the society'), ('жестить', 'put pressure, get tough'), ('хз', 'idk, no idea'), ('ламповый', 'cosy, warm, nice (usually about a party or a person)'), ('походу', 'seems like'), ('кайф or каеф', 'cool, really good'), ('движ', 'get-together')]\n"
     ]
    }
   ],
   "source": [
    "print(len(d))\n",
    "print('хз' in d)\n",
    "del(d['движ'])\n",
    "print(len(d))\n",
    "d['движ']='get-together'\n",
    "print(len(d))\n",
    "print(list(d.keys()),'\\n')\n",
    "print(list(d.values()),'\\n')\n",
    "print(list(d.items()))"
   ]
  }
 ],
 "metadata": {
  "kernelspec": {
   "display_name": "Python 3",
   "language": "python",
   "name": "python3"
  },
  "language_info": {
   "codemirror_mode": {
    "name": "ipython",
    "version": 3
   },
   "file_extension": ".py",
   "mimetype": "text/x-python",
   "name": "python",
   "nbconvert_exporter": "python",
   "pygments_lexer": "ipython3",
   "version": "3.7.3"
  }
 },
 "nbformat": 4,
 "nbformat_minor": 2
}
