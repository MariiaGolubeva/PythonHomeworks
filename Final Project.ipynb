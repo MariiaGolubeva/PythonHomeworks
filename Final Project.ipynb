{
 "cells": [
  {
   "cell_type": "markdown",
   "metadata": {},
   "source": [
    "# PyMorphy2: the most popular library for morphological parsing of Russian\n",
    "\n",
    " **The morphological parsing** is a part of **natural language processing (NLP)**, which includes defining and recognising of the morphological properties of a given word (or token). Morphological analysis is based on the information containing in the word form, the information about the surrounding words is not used here. It includes also **lemmatization** which is a process of bringing a word to the normal form - the one presented in the dictionary.\n",
    " \n",
    " I am going to observe PyMorphy2 - a library that allows to do that all for Russian language."
   ]
  },
  {
   "cell_type": "markdown",
   "metadata": {},
   "source": [
    "## PyMorphy2\n",
    "\n",
    "This is how the library is installed and imported"
   ]
  },
  {
   "cell_type": "code",
   "execution_count": 1,
   "metadata": {},
   "outputs": [
    {
     "name": "stdout",
     "output_type": "stream",
     "text": [
      "Requirement already satisfied: pymorphy2 in c:\\users\\asus\\appdata\\local\\programs\\python\\python38-32\\lib\\site-packages (0.9.1)\n",
      "Requirement already satisfied: dawg-python>=0.7.1 in c:\\users\\asus\\appdata\\local\\programs\\python\\python38-32\\lib\\site-packages (from pymorphy2) (0.7.2)\n",
      "Requirement already satisfied: pymorphy2-dicts-ru<3.0,>=2.4 in c:\\users\\asus\\appdata\\local\\programs\\python\\python38-32\\lib\\site-packages (from pymorphy2) (2.4.417127.4579844)\n",
      "Requirement already satisfied: docopt>=0.6 in c:\\users\\asus\\appdata\\local\\programs\\python\\python38-32\\lib\\site-packages (from pymorphy2) (0.6.2)\n"
     ]
    }
   ],
   "source": [
    "!pip install pymorphy2"
   ]
  },
  {
   "cell_type": "code",
   "execution_count": 2,
   "metadata": {},
   "outputs": [],
   "source": [
    "import pymorphy2"
   ]
  },
  {
   "cell_type": "markdown",
   "metadata": {},
   "source": [
    "For morphological analysis a special class is used - *MorphAnalyzer*\n",
    "\n",
    "Here we create an object *morph* which is our instrument able to inform us all the necessary information about word properties\n",
    "\n",
    "Russian language is set by default."
   ]
  },
  {
   "cell_type": "code",
   "execution_count": 3,
   "metadata": {},
   "outputs": [
    {
     "data": {
      "text/plain": [
       "pymorphy2.analyzer.MorphAnalyzer"
      ]
     },
     "execution_count": 3,
     "metadata": {},
     "output_type": "execute_result"
    }
   ],
   "source": [
    "morph = pymorphy2.MorphAnalyzer()\n",
    "type(morph)"
   ]
  },
  {
   "cell_type": "markdown",
   "metadata": {},
   "source": [
    "Method **.parse()** is used to create a list of all possible morphological analyses of the word"
   ]
  },
  {
   "cell_type": "code",
   "execution_count": 4,
   "metadata": {},
   "outputs": [
    {
     "name": "stdout",
     "output_type": "stream",
     "text": [
      "[Parse(word='стекло', tag=OpencorporaTag('NOUN,inan,neut sing,nomn'), normal_form='стекло', score=0.690476, methods_stack=((DictionaryAnalyzer(), 'стекло', 157, 0),)), Parse(word='стекло', tag=OpencorporaTag('NOUN,inan,neut sing,accs'), normal_form='стекло', score=0.285714, methods_stack=((DictionaryAnalyzer(), 'стекло', 157, 3),)), Parse(word='стекло', tag=OpencorporaTag('VERB,perf,intr neut,sing,past,indc'), normal_form='стечь', score=0.023809, methods_stack=((DictionaryAnalyzer(), 'стекло', 1015, 3),))] \n",
      "\n",
      "<class 'list'>\n",
      "<class 'pymorphy2.analyzer.Parse'>\n"
     ]
    }
   ],
   "source": [
    "steklo_all = morph.parse('стекло')\n",
    "print(steklo_all, '\\n')\n",
    "print(type(steklo_all))\n",
    "print(type(steklo_all[0]))"
   ]
  },
  {
   "cell_type": "markdown",
   "metadata": {},
   "source": [
    "Each element of this list has a **tag** - a set of grammemes, the grammatical properties of the word. For example, here are the possible grammeme sets of the ambiguous word \"стекло\" as a noun and as a verb:"
   ]
  },
  {
   "cell_type": "code",
   "execution_count": 5,
   "metadata": {},
   "outputs": [
    {
     "name": "stdout",
     "output_type": "stream",
     "text": [
      "NOUN,inan,neut sing,nomn\n",
      "VERB,perf,intr neut,sing,past,indc\n"
     ]
    }
   ],
   "source": [
    "steklo_n = steklo_all[0]\n",
    "print(steklo_n.tag)\n",
    "steklo_v = steklo_all[2]\n",
    "print(steklo_v.tag)"
   ]
  },
  {
   "cell_type": "markdown",
   "metadata": {},
   "source": [
    "Here are some attributes to get a particular grammeme:\n",
    "* **.POS** (Part Of Speech)\n",
    "* **.case**\n",
    "* **.number** (There can be a special mark for Pluralia tantum and Singularia tantum)\n",
    "* **.gender** (There can be a special mark for \"common\" gender - *Ms-f* and for noun without expressed gender - *GNdr*)\n",
    "* **.tense**\n",
    "* **.aspect**"
   ]
  },
  {
   "cell_type": "code",
   "execution_count": 6,
   "metadata": {},
   "outputs": [
    {
     "name": "stdout",
     "output_type": "stream",
     "text": [
      "perf \n",
      " NOUN \n",
      " past\n"
     ]
    }
   ],
   "source": [
    "print(steklo_v.tag.aspect, '\\n', steklo_n.tag.POS,'\\n', steklo_v.tag.tense)"
   ]
  },
  {
   "cell_type": "code",
   "execution_count": 7,
   "metadata": {},
   "outputs": [
    {
     "data": {
      "text/plain": [
       "OpencorporaTag('NOUN,inan,GNdr,Pltm plur,nomn')"
      ]
     },
     "execution_count": 7,
     "metadata": {},
     "output_type": "execute_result"
    }
   ],
   "source": [
    "morph.parse('дрова')[0].tag"
   ]
  },
  {
   "cell_type": "code",
   "execution_count": 8,
   "metadata": {},
   "outputs": [
    {
     "data": {
      "text/plain": [
       "OpencorporaTag('NOUN,anim,ms-f sing,nomn')"
      ]
     },
     "execution_count": 8,
     "metadata": {},
     "output_type": "execute_result"
    }
   ],
   "source": [
    "morph.parse('сирота')[0].tag"
   ]
  },
  {
   "cell_type": "code",
   "execution_count": 9,
   "metadata": {},
   "outputs": [
    {
     "data": {
      "text/plain": [
       "OpencorporaTag('NOUN,inan,masc,Sgtm sing,nomn')"
      ]
     },
     "execution_count": 9,
     "metadata": {},
     "output_type": "execute_result"
    }
   ],
   "source": [
    "morph.parse('свет')[0].tag"
   ]
  },
  {
   "cell_type": "markdown",
   "metadata": {},
   "source": [
    "The similar attributes are used to find out person, transitivity, animacy, mood, voice.\n",
    "\n",
    "It is possible to check if the word has a particular grammeme by mean of **in** operator:"
   ]
  },
  {
   "cell_type": "code",
   "execution_count": 10,
   "metadata": {},
   "outputs": [
    {
     "data": {
      "text/plain": [
       "True"
      ]
     },
     "execution_count": 10,
     "metadata": {},
     "output_type": "execute_result"
    }
   ],
   "source": [
    "'Sgtm' in morph.parse('свет')[0].tag"
   ]
  },
  {
   "cell_type": "markdown",
   "metadata": {},
   "source": [
    "The attributes **.normal_form** and **.normalized** return the lemma of a word as a string or parse object"
   ]
  },
  {
   "cell_type": "code",
   "execution_count": 11,
   "metadata": {},
   "outputs": [
    {
     "data": {
      "text/plain": [
       "'стечь'"
      ]
     },
     "execution_count": 11,
     "metadata": {},
     "output_type": "execute_result"
    }
   ],
   "source": [
    "steklo_v.normal_form"
   ]
  },
  {
   "cell_type": "code",
   "execution_count": 12,
   "metadata": {},
   "outputs": [
    {
     "data": {
      "text/plain": [
       "Parse(word='стечь', tag=OpencorporaTag('INFN,perf,intr'), normal_form='стечь', score=1.0, methods_stack=((DictionaryAnalyzer(), 'стечь', 1015, 0),))"
      ]
     },
     "execution_count": 12,
     "metadata": {},
     "output_type": "execute_result"
    }
   ],
   "source": [
    "steklo_v.normalized"
   ]
  },
  {
   "cell_type": "markdown",
   "metadata": {},
   "source": [
    "If a word is unknown to the parser, it tries to predict which grammemes does it have"
   ]
  },
  {
   "cell_type": "code",
   "execution_count": 13,
   "metadata": {},
   "outputs": [
    {
     "name": "stdout",
     "output_type": "stream",
     "text": [
      "VERB,impf,intr sing,3per,pres,indc кудрячать\n",
      "VERB,perf,tran sing,3per,futr,indc кудрячить\n",
      "VERB,impf,tran sing,3per,pres,indc кудрячить\n",
      "VERB,perf,tran sing,3per,futr,indc кудрячить\n"
     ]
    }
   ],
   "source": [
    "for i in morph.parse('кудрячит'):\n",
    "    print(i.tag, i.normal_form)"
   ]
  },
  {
   "cell_type": "markdown",
   "metadata": {},
   "source": [
    "The **.inflect()** method allows to put a lexeme in a particular word form. NB: it must be applied to a lemmatized parse object"
   ]
  },
  {
   "cell_type": "code",
   "execution_count": 14,
   "metadata": {},
   "outputs": [
    {
     "data": {
      "text/plain": [
       "Parse(word='облаке', tag=OpencorporaTag('NOUN,inan,neut sing,loct'), normal_form='облако', score=1.0, methods_stack=((DictionaryAnalyzer(), 'облаке', 2242, 5),))"
      ]
     },
     "execution_count": 14,
     "metadata": {},
     "output_type": "execute_result"
    }
   ],
   "source": [
    "cloud = morph.parse('облаками')[0].normalized\n",
    "cloud.inflect({'loct'})"
   ]
  },
  {
   "cell_type": "markdown",
   "metadata": {},
   "source": [
    "And the **.lexeme** attribute returnes the whole set of word forms of the lexeme"
   ]
  },
  {
   "cell_type": "code",
   "execution_count": 15,
   "metadata": {},
   "outputs": [
    {
     "data": {
      "text/plain": [
       "[Parse(word='облако', tag=OpencorporaTag('NOUN,inan,neut sing,nomn'), normal_form='облако', score=1.0, methods_stack=((DictionaryAnalyzer(), 'облако', 2242, 0),)),\n",
       " Parse(word='облака', tag=OpencorporaTag('NOUN,inan,neut sing,gent'), normal_form='облако', score=1.0, methods_stack=((DictionaryAnalyzer(), 'облака', 2242, 1),)),\n",
       " Parse(word='облаку', tag=OpencorporaTag('NOUN,inan,neut sing,datv'), normal_form='облако', score=1.0, methods_stack=((DictionaryAnalyzer(), 'облаку', 2242, 2),)),\n",
       " Parse(word='облако', tag=OpencorporaTag('NOUN,inan,neut sing,accs'), normal_form='облако', score=1.0, methods_stack=((DictionaryAnalyzer(), 'облако', 2242, 3),)),\n",
       " Parse(word='облаком', tag=OpencorporaTag('NOUN,inan,neut sing,ablt'), normal_form='облако', score=1.0, methods_stack=((DictionaryAnalyzer(), 'облаком', 2242, 4),)),\n",
       " Parse(word='облаке', tag=OpencorporaTag('NOUN,inan,neut sing,loct'), normal_form='облако', score=1.0, methods_stack=((DictionaryAnalyzer(), 'облаке', 2242, 5),)),\n",
       " Parse(word='облака', tag=OpencorporaTag('NOUN,inan,neut plur,nomn'), normal_form='облако', score=1.0, methods_stack=((DictionaryAnalyzer(), 'облака', 2242, 6),)),\n",
       " Parse(word='облаков', tag=OpencorporaTag('NOUN,inan,neut plur,gent'), normal_form='облако', score=1.0, methods_stack=((DictionaryAnalyzer(), 'облаков', 2242, 7),)),\n",
       " Parse(word='облакам', tag=OpencorporaTag('NOUN,inan,neut plur,datv'), normal_form='облако', score=1.0, methods_stack=((DictionaryAnalyzer(), 'облакам', 2242, 8),)),\n",
       " Parse(word='облака', tag=OpencorporaTag('NOUN,inan,neut plur,accs'), normal_form='облако', score=1.0, methods_stack=((DictionaryAnalyzer(), 'облака', 2242, 9),)),\n",
       " Parse(word='облаками', tag=OpencorporaTag('NOUN,inan,neut plur,ablt'), normal_form='облако', score=1.0, methods_stack=((DictionaryAnalyzer(), 'облаками', 2242, 10),)),\n",
       " Parse(word='облаках', tag=OpencorporaTag('NOUN,inan,neut plur,loct'), normal_form='облако', score=1.0, methods_stack=((DictionaryAnalyzer(), 'облаках', 2242, 11),))]"
      ]
     },
     "execution_count": 15,
     "metadata": {},
     "output_type": "execute_result"
    }
   ],
   "source": [
    "cloud.lexeme"
   ]
  }
 ],
 "metadata": {
  "kernelspec": {
   "display_name": "Python 3",
   "language": "python",
   "name": "python3"
  },
  "language_info": {
   "codemirror_mode": {
    "name": "ipython",
    "version": 3
   },
   "file_extension": ".py",
   "mimetype": "text/x-python",
   "name": "python",
   "nbconvert_exporter": "python",
   "pygments_lexer": "ipython3",
   "version": "3.8.5"
  }
 },
 "nbformat": 4,
 "nbformat_minor": 4
}
